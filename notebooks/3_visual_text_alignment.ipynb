{
 "cells": [
  {
   "cell_type": "code",
   "execution_count": 6,
   "id": "3a73e35b",
   "metadata": {},
   "outputs": [],
   "source": [
    "import os\n",
    "import pandas as pd\n",
    "import numpy as np\n",
    "import torch\n",
    "from PIL import Image\n",
    "from torchvision import transforms\n",
    "from transformers import CLIPProcessor, CLIPModel\n",
    "from sklearn.metrics.pairwise import cosine_similarity\n",
    "from sklearn.preprocessing import LabelEncoder\n",
    "from sklearn.model_selection import train_test_split\n",
    "from sklearn.ensemble import RandomForestClassifier\n",
    "from sklearn.metrics import classification_report, confusion_matrix\n",
    "import seaborn as sns\n",
    "import matplotlib.pyplot as plt"
   ]
  },
  {
   "cell_type": "code",
   "execution_count": 17,
   "id": "dfe460c6",
   "metadata": {},
   "outputs": [
    {
     "name": "stdout",
     "output_type": "stream",
     "text": [
      " Mock image-caption data created.\n"
     ]
    }
   ],
   "source": [
    "os.makedirs(\"data/data_raw/disaster_images\", exist_ok=True)\n",
    "\n",
    "colors = [\"red\", \"green\", \"blue\", \"yellow\", \"purple\"]\n",
    "captions = [\n",
    "    \"A wildfire burns through the forest.\",\n",
    "    \"A flooded street after the hurricane.\",\n",
    "    \"Snow covers the rooftops after a storm.\",\n",
    "    \"Collapsed buildings from an earthquake.\",\n",
    "    \"Smoke fills the air in downtown.\"\n",
    "]\n",
    "\n",
    "image_paths = []\n",
    "for i, color in enumerate(colors):\n",
    "    img = Image.new(\"RGB\", (256, 256), color=color)\n",
    "    path = f\"data/data_raw/disaster_images/img_{i}.jpg\"\n",
    "    img.save(path)\n",
    "    image_paths.append(path)\n",
    "\n",
    "df_mock = pd.DataFrame({\"image_path\": image_paths, \"caption\": captions})\n",
    "df_mock.to_csv(\"data/data_raw/image_caption_pairs.csv\", index=False)\n",
    "print(\" Mock image-caption data created.\")\n"
   ]
  },
  {
   "cell_type": "code",
   "execution_count": 8,
   "id": "f367877d",
   "metadata": {},
   "outputs": [
    {
     "name": "stderr",
     "output_type": "stream",
     "text": [
      "Using a slow image processor as `use_fast` is unset and a slow processor was saved with this model. `use_fast=True` will be the default behavior in v4.52, even if the model was saved with a slow processor. This will result in minor differences in outputs. You'll still be able to use a slow processor with `use_fast=False`.\n"
     ]
    },
    {
     "data": {
      "text/plain": [
       "CLIPModel(\n",
       "  (text_model): CLIPTextTransformer(\n",
       "    (embeddings): CLIPTextEmbeddings(\n",
       "      (token_embedding): Embedding(49408, 512)\n",
       "      (position_embedding): Embedding(77, 512)\n",
       "    )\n",
       "    (encoder): CLIPEncoder(\n",
       "      (layers): ModuleList(\n",
       "        (0-11): 12 x CLIPEncoderLayer(\n",
       "          (self_attn): CLIPAttention(\n",
       "            (k_proj): Linear(in_features=512, out_features=512, bias=True)\n",
       "            (v_proj): Linear(in_features=512, out_features=512, bias=True)\n",
       "            (q_proj): Linear(in_features=512, out_features=512, bias=True)\n",
       "            (out_proj): Linear(in_features=512, out_features=512, bias=True)\n",
       "          )\n",
       "          (layer_norm1): LayerNorm((512,), eps=1e-05, elementwise_affine=True)\n",
       "          (mlp): CLIPMLP(\n",
       "            (activation_fn): QuickGELUActivation()\n",
       "            (fc1): Linear(in_features=512, out_features=2048, bias=True)\n",
       "            (fc2): Linear(in_features=2048, out_features=512, bias=True)\n",
       "          )\n",
       "          (layer_norm2): LayerNorm((512,), eps=1e-05, elementwise_affine=True)\n",
       "        )\n",
       "      )\n",
       "    )\n",
       "    (final_layer_norm): LayerNorm((512,), eps=1e-05, elementwise_affine=True)\n",
       "  )\n",
       "  (vision_model): CLIPVisionTransformer(\n",
       "    (embeddings): CLIPVisionEmbeddings(\n",
       "      (patch_embedding): Conv2d(3, 768, kernel_size=(32, 32), stride=(32, 32), bias=False)\n",
       "      (position_embedding): Embedding(50, 768)\n",
       "    )\n",
       "    (pre_layrnorm): LayerNorm((768,), eps=1e-05, elementwise_affine=True)\n",
       "    (encoder): CLIPEncoder(\n",
       "      (layers): ModuleList(\n",
       "        (0-11): 12 x CLIPEncoderLayer(\n",
       "          (self_attn): CLIPAttention(\n",
       "            (k_proj): Linear(in_features=768, out_features=768, bias=True)\n",
       "            (v_proj): Linear(in_features=768, out_features=768, bias=True)\n",
       "            (q_proj): Linear(in_features=768, out_features=768, bias=True)\n",
       "            (out_proj): Linear(in_features=768, out_features=768, bias=True)\n",
       "          )\n",
       "          (layer_norm1): LayerNorm((768,), eps=1e-05, elementwise_affine=True)\n",
       "          (mlp): CLIPMLP(\n",
       "            (activation_fn): QuickGELUActivation()\n",
       "            (fc1): Linear(in_features=768, out_features=3072, bias=True)\n",
       "            (fc2): Linear(in_features=3072, out_features=768, bias=True)\n",
       "          )\n",
       "          (layer_norm2): LayerNorm((768,), eps=1e-05, elementwise_affine=True)\n",
       "        )\n",
       "      )\n",
       "    )\n",
       "    (post_layernorm): LayerNorm((768,), eps=1e-05, elementwise_affine=True)\n",
       "  )\n",
       "  (visual_projection): Linear(in_features=768, out_features=512, bias=False)\n",
       "  (text_projection): Linear(in_features=512, out_features=512, bias=False)\n",
       ")"
      ]
     },
     "execution_count": 8,
     "metadata": {},
     "output_type": "execute_result"
    }
   ],
   "source": [
    "clip_model = CLIPModel.from_pretrained(\"openai/clip-vit-base-patch32\")\n",
    "clip_processor = CLIPProcessor.from_pretrained(\"openai/clip-vit-base-patch32\")\n",
    "device = \"cuda\" if torch.cuda.is_available() else \"cpu\"\n",
    "clip_model.to(device)"
   ]
  },
  {
   "cell_type": "code",
   "execution_count": 9,
   "id": "fd47b455",
   "metadata": {},
   "outputs": [],
   "source": [
    "def compute_clip_score(image_path, text):\n",
    "    try:\n",
    "        image = Image.open(image_path).convert(\"RGB\")\n",
    "        inputs = clip_processor(text=[text], images=image, return_tensors=\"pt\", padding=True).to(device)\n",
    "        with torch.no_grad():\n",
    "            outputs = clip_model(**inputs)\n",
    "            logits_per_image = outputs.logits_per_image\n",
    "            score = logits_per_image.softmax(dim=1)[0][0].item()\n",
    "        return score\n",
    "    except Exception as e:\n",
    "        print(f\"Error processing {image_path}: {e}\")\n",
    "        return None"
   ]
  },
  {
   "cell_type": "code",
   "execution_count": 10,
   "id": "0efac320",
   "metadata": {},
   "outputs": [
    {
     "name": "stdout",
     "output_type": "stream",
     "text": [
      "CLIP scores saved.\n"
     ]
    }
   ],
   "source": [
    "image_df = pd.read_csv(\"data/data_raw/image_caption_pairs.csv\")\n",
    "image_df[\"clip_score\"] = image_df.apply(lambda row: compute_clip_score(row[\"image_path\"], row[\"caption\"]), axis=1)\n",
    "image_df.rename(columns={\"caption\": \"text\"}, inplace=True)\n",
    "image_df.to_csv(\"data/image_text_with_clip_scores.csv\", index=False)\n",
    "print(\"CLIP scores saved.\")"
   ]
  },
  {
   "cell_type": "code",
   "execution_count": 12,
   "id": "d5f1c0cf",
   "metadata": {},
   "outputs": [],
   "source": [
    "text_df = pd.read_csv(\"data/data_processed/text_enriched.csv\")\n"
   ]
  },
  {
   "cell_type": "code",
   "execution_count": 13,
   "id": "cec92428",
   "metadata": {},
   "outputs": [
    {
     "name": "stdout",
     "output_type": "stream",
     "text": [
      "Merged shape: (0, 5)\n"
     ]
    },
    {
     "data": {
      "text/html": [
       "<div>\n",
       "<style scoped>\n",
       "    .dataframe tbody tr th:only-of-type {\n",
       "        vertical-align: middle;\n",
       "    }\n",
       "\n",
       "    .dataframe tbody tr th {\n",
       "        vertical-align: top;\n",
       "    }\n",
       "\n",
       "    .dataframe thead th {\n",
       "        text-align: right;\n",
       "    }\n",
       "</style>\n",
       "<table border=\"1\" class=\"dataframe\">\n",
       "  <thead>\n",
       "    <tr style=\"text-align: right;\">\n",
       "      <th></th>\n",
       "      <th>id</th>\n",
       "      <th>text</th>\n",
       "      <th>label</th>\n",
       "      <th>image_path</th>\n",
       "      <th>clip_score</th>\n",
       "    </tr>\n",
       "  </thead>\n",
       "  <tbody>\n",
       "  </tbody>\n",
       "</table>\n",
       "</div>"
      ],
      "text/plain": [
       "Empty DataFrame\n",
       "Columns: [id, text, label, image_path, clip_score]\n",
       "Index: []"
      ]
     },
     "execution_count": 13,
     "metadata": {},
     "output_type": "execute_result"
    }
   ],
   "source": [
    "df = pd.merge(text_df, image_df, on=\"text\", how=\"inner\")\n",
    "print(\"Merged shape:\", df.shape)\n",
    "df.head()"
   ]
  },
  {
   "cell_type": "code",
   "execution_count": 21,
   "id": "8ab0247c",
   "metadata": {},
   "outputs": [],
   "source": [
    "# Drop rows with missing labels\n",
    "df = df.dropna(subset=[\"label\"])\n",
    "\n",
    "# Safely cast binary flags if columns exist\n",
    "if \"suspicious\" in df.columns:\n",
    "    df[\"suspicious\"] = df[\"suspicious\"].astype(int)\n",
    "else:\n",
    "    df[\"suspicious\"] = 0  # or drop from features later\n",
    "\n",
    "if \"image_mismatch\" in df.columns:\n",
    "    df[\"image_mismatch\"] = df[\"image_mismatch\"].astype(int)\n",
    "else:\n",
    "    df[\"image_mismatch\"] = 0\n",
    "\n",
    "# Fill missing values for similarity/clip_score\n",
    "df[\"clip_score\"] = df[\"clip_score\"].fillna(0)\n",
    "df[\"similarity_to_reference\"] = df.get(\"similarity_to_reference\", pd.Series([0]*len(df)))\n"
   ]
  },
  {
   "cell_type": "code",
   "execution_count": 28,
   "id": "337ca89e",
   "metadata": {},
   "outputs": [],
   "source": [
    "import pandas as pd\n",
    "\n",
    "df = pd.DataFrame({\n",
    "    \"id\": [0, 1, 2, 3, 4],\n",
    "    \"text\": [\n",
    "        \"This looks like a real flood in Kerala.\",\n",
    "        \"Seems photoshopped, don't believe it.\",\n",
    "        \"Genuine disaster response effort.\",\n",
    "        \"Old photo used to mislead.\",\n",
    "        \"Authentic image from news sources.\"\n",
    "    ],\n",
    "    \"label\": [\"real\", \"fake\", \"real\", \"fake\", \"real\"],\n",
    "    \"image_path\": [\n",
    "        \"data/images/flood1.jpg\",\n",
    "        \"data/images/fake1.jpg\",\n",
    "        \"data/images/flood1.jpg\",\n",
    "        \"data/images/fake1.jpg\",\n",
    "        \"data/images/flood1.jpg\"\n",
    "    ],\n",
    "    \"clip_score\": [0.87, 0.41, 0.93, 0.35, 0.88],\n",
    "    \"suspicious\": [0, 1, 0, 1, 0],\n",
    "    \"image_mismatch\": [0, 1, 0, 1, 0],\n",
    "    \"similarity_to_reference\": [0.9, 0.3, 0.95, 0.25, 0.91]\n",
    "})\n"
   ]
  },
  {
   "cell_type": "code",
   "execution_count": 29,
   "id": "7f752f0f",
   "metadata": {},
   "outputs": [
    {
     "name": "stdout",
     "output_type": "stream",
     "text": [
      "              precision    recall  f1-score   support\n",
      "\n",
      "        fake       1.00      1.00      1.00         1\n",
      "\n",
      "    accuracy                           1.00         1\n",
      "   macro avg       1.00      1.00      1.00         1\n",
      "weighted avg       1.00      1.00      1.00         1\n",
      "\n"
     ]
    }
   ],
   "source": [
    "features = [\"suspicious\", \"similarity_to_reference\", \"clip_score\", \"image_mismatch\"]\n",
    "X = df[features]\n",
    "y = df[\"label\"]\n",
    "\n",
    "from sklearn.model_selection import train_test_split\n",
    "from sklearn.ensemble import RandomForestClassifier\n",
    "from sklearn.metrics import classification_report\n",
    "\n",
    "X_train, X_test, y_train, y_test = train_test_split(X, y, test_size=0.2, random_state=42)\n",
    "clf = RandomForestClassifier(n_estimators=100, random_state=42)\n",
    "clf.fit(X_train, y_train)\n",
    "y_pred = clf.predict(X_test)\n",
    "\n",
    "print(classification_report(y_test, y_pred))\n"
   ]
  },
  {
   "cell_type": "code",
   "execution_count": 30,
   "id": "37d122a0",
   "metadata": {},
   "outputs": [
    {
     "name": "stderr",
     "output_type": "stream",
     "text": [
      "c:\\Users\\ASus\\DisasterMisinformation.AI\\venv\\lib\\site-packages\\sklearn\\metrics\\_classification.py:534: UserWarning: A single label was found in 'y_true' and 'y_pred'. For the confusion matrix to have the correct shape, use the 'labels' parameter to pass all known labels.\n",
      "  warnings.warn(\n"
     ]
    },
    {
     "data": {
      "image/png": "[encoded data removed]",
      "text/plain": [
       "<Figure size 640x480 with 2 Axes>"
      ]
     },
     "metadata": {},
     "output_type": "display_data"
    }
   ],
   "source": [
    "cm = confusion_matrix(y_test, y_pred)\n",
    "sns.heatmap(cm, annot=True, fmt=\"d\", cmap=\"Blues\", xticklabels=clf.classes_, yticklabels=clf.classes_)\n",
    "plt.xlabel(\"Predicted\")\n",
    "plt.ylabel(\"True\")\n",
    "plt.title(\"Confusion Matrix\")\n",
    "plt.show()\n"
   ]
  },
  {
   "cell_type": "code",
   "execution_count": 31,
   "id": "ec56accd",
   "metadata": {},
   "outputs": [
    {
     "name": "stdout",
     "output_type": "stream",
     "text": [
      "Final predictions saved to data/data_processed/final_predictions.csv\n"
     ]
    }
   ],
   "source": [
    "df[\"predicted_label\"] = clf.predict(df[features])\n",
    "df.to_csv(\"data/data_processed/final_predictions.csv\", index=False)\n",
    "print(\"Final predictions saved to data/data_processed/final_predictions.csv\")\n"
   ]
  }
 ],
 "metadata": {
  "kernelspec": {
   "display_name": "venv",
   "language": "python",
   "name": "python3"
  },
  "language_info": {
   "codemirror_mode": {
    "name": "ipython",
    "version": 3
   },
   "file_extension": ".py",
   "mimetype": "text/x-python",
   "name": "python",
   "nbconvert_exporter": "python",
   "pygments_lexer": "ipython3",
   "version": "3.10.0"
  }
 },
 "nbformat": 4,
 "nbformat_minor": 5
}
