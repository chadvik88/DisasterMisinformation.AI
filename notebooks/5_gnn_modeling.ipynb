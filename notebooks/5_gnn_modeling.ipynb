{
 "cells": [
  {
   "cell_type": "code",
   "execution_count": 11,
   "id": "86e3ad5b",
   "metadata": {},
   "outputs": [
    {
     "name": "stdout",
     "output_type": "stream",
     "text": [
      "Libraries imported.\n"
     ]
    }
   ],
   "source": [
    "import pandas as pd\n",
    "import torch\n",
    "import seaborn as sns\n",
    "import torch.nn.functional as F\n",
    "from torch_geometric.data import Data\n",
    "from torch_geometric.nn import GATConv  # Switch from GCNConv\n",
    "import numpy as np\n",
    "import os\n",
    "from sklearn.preprocessing import StandardScaler\n",
    "import matplotlib.pyplot as plt\n",
    "from sklearn.manifold import TSNE\n",
    "from sklearn.metrics import classification_report, f1_score\n",
    "\n",
    "print(\"Libraries imported.\")"
   ]
  },
  {
   "cell_type": "code",
   "execution_count": 14,
   "id": "7d9ef0da",
   "metadata": {},
   "outputs": [
    {
     "name": "stdout",
     "output_type": "stream",
     "text": [
      "Loaded dataset: (5, 9)\n",
      "label\n",
      "real    3\n",
      "fake    2\n",
      "Name: count, dtype: int64\n",
      "Graph data: Data(x=[5, 4], edge_index=[2, 4], y=[5], train_mask=[5], test_mask=[5])\n"
     ]
    }
   ],
   "source": [
    "csv_path = \"data/data_processed/final_predictions.csv\"\n",
    "assert os.path.exists(csv_path), f\"File not found: {csv_path}\"\n",
    "df = pd.read_csv(csv_path)\n",
    "\n",
    "print(f\"Loaded dataset: {df.shape}\")\n",
    "print(df[\"label\"].value_counts())\n",
    "\n",
    "# Filter and fill features\n",
    "features = [\"clip_score\", \"similarity_to_reference\", \"suspicious\", \"image_mismatch\"]\n",
    "df = df.dropna(subset=[\"label\"])\n",
    "for col in features:\n",
    "    df[col] = df.get(col, 0).fillna(0)\n",
    "    if df[col].dtype == bool:\n",
    "        df[col] = df[col].astype(int)\n",
    "\n",
    "# Normalize features\n",
    "scaler = StandardScaler()\n",
    "x = scaler.fit_transform(df[features])\n",
    "x = torch.tensor(x, dtype=torch.float)\n",
    "\n",
    "# Labels\n",
    "label_map = {label: i for i, label in enumerate(df[\"label\"].unique())}\n",
    "y = torch.tensor(df[\"label\"].map(label_map).values, dtype=torch.long)\n",
    "\n",
    "# Enhanced edge_index: based on tweet proximity (assumes 'timestamp' in df)\n",
    "if \"timestamp\" in df.columns:\n",
    "    df = df.sort_values(\"timestamp\").reset_index(drop=True)\n",
    "    n = len(df)\n",
    "    source_nodes = []\n",
    "    target_nodes = []\n",
    "    for i in range(n):\n",
    "        for j in range(i+1, min(n, i+6)):\n",
    "            source_nodes.append(i)\n",
    "            target_nodes.append(j)\n",
    "    edge_index = torch.tensor([source_nodes + target_nodes, target_nodes + source_nodes], dtype=torch.long)\n",
    "else:\n",
    "    n = len(df)\n",
    "    edge_index = torch.stack([torch.arange(n - 1), torch.arange(1, n)], dim=0)\n",
    "\n",
    "# Build graph\n",
    "data = Data(x=x, edge_index=edge_index, y=y)\n",
    "\n",
    "# Add train/test masks\n",
    "data.train_mask = torch.zeros(n, dtype=torch.bool)\n",
    "data.test_mask = torch.zeros(n, dtype=torch.bool)\n",
    "train_cutoff = int(0.8 * n)\n",
    "data.train_mask[:train_cutoff] = True\n",
    "data.test_mask[train_cutoff:] = True\n",
    "\n",
    "print(\"Graph data:\", data)\n"
   ]
  },
  {
   "cell_type": "code",
   "execution_count": 15,
   "id": "c892acc4",
   "metadata": {},
   "outputs": [],
   "source": [
    "class GAT(torch.nn.Module):\n",
    "    def __init__(self, input_dim, hidden_dim, output_dim):\n",
    "        super(GAT, self).__init__()\n",
    "        self.gat1 = GATConv(input_dim, hidden_dim, heads=4, concat=True)\n",
    "        self.gat2 = GATConv(hidden_dim * 4, output_dim, heads=1, concat=False)\n",
    "\n",
    "    def forward(self, data):\n",
    "        x, edge_index = data.x, data.edge_index\n",
    "        x = self.gat1(x, edge_index)\n",
    "        x = F.elu(x)\n",
    "        x = self.gat2(x, edge_index)\n",
    "        return F.log_softmax(x, dim=1)\n",
    "\n",
    "model = GAT(input_dim=x.shape[1], hidden_dim=16, output_dim=len(label_map))\n",
    "optimizer = torch.optim.Adam(model.parameters(), lr=0.005)\n",
    "loss_fn = torch.nn.NLLLoss()"
   ]
  },
  {
   "cell_type": "code",
   "execution_count": 16,
   "id": "51312621",
   "metadata": {},
   "outputs": [
    {
     "name": "stdout",
     "output_type": "stream",
     "text": [
      "Epoch 010 | Loss: 0.5921 | Train Acc: 0.7500\n",
      "Epoch 020 | Loss: 0.4741 | Train Acc: 0.7500\n",
      "Epoch 030 | Loss: 0.4397 | Train Acc: 0.7500\n",
      "Epoch 040 | Loss: 0.4007 | Train Acc: 0.7500\n",
      "Epoch 050 | Loss: 0.3532 | Train Acc: 0.7500\n",
      "Epoch 060 | Loss: 0.2785 | Train Acc: 1.0000\n",
      "Epoch 070 | Loss: 0.1538 | Train Acc: 1.0000\n",
      "Epoch 080 | Loss: 0.0481 | Train Acc: 1.0000\n",
      "Epoch 090 | Loss: 0.0144 | Train Acc: 1.0000\n",
      "Epoch 100 | Loss: 0.0063 | Train Acc: 1.0000\n"
     ]
    }
   ],
   "source": [
    "model.train()\n",
    "for epoch in range(1, 101):\n",
    "    optimizer.zero_grad()\n",
    "    out = model(data)\n",
    "    loss = loss_fn(out[data.train_mask], data.y[data.train_mask])\n",
    "    loss.backward()\n",
    "    optimizer.step()\n",
    "\n",
    "    pred = out[data.train_mask].argmax(dim=1)\n",
    "    acc = (pred == data.y[data.train_mask]).sum().item() / data.train_mask.sum().item()\n",
    "    if epoch % 10 == 0:\n",
    "        print(f\"Epoch {epoch:03d} | Loss: {loss:.4f} | Train Acc: {acc:.4f}\")"
   ]
  },
  {
   "cell_type": "code",
   "execution_count": 17,
   "id": "6a809440",
   "metadata": {},
   "outputs": [
    {
     "name": "stdout",
     "output_type": "stream",
     "text": [
      "\n",
      " Test Accuracy: 0.0000\n",
      "\n",
      " Classification Report:\n",
      "              precision    recall  f1-score   support\n",
      "\n",
      "        real       0.00      0.00      0.00       1.0\n",
      "        fake       0.00      0.00      0.00       0.0\n",
      "\n",
      "    accuracy                           0.00       1.0\n",
      "   macro avg       0.00      0.00      0.00       1.0\n",
      "weighted avg       0.00      0.00      0.00       1.0\n",
      "\n"
     ]
    },
    {
     "name": "stderr",
     "output_type": "stream",
     "text": [
      "c:\\Users\\ASus\\DisasterMisinformation.AI\\venv\\lib\\site-packages\\sklearn\\metrics\\_classification.py:1706: UndefinedMetricWarning: Precision is ill-defined and being set to 0.0 in labels with no predicted samples. Use `zero_division` parameter to control this behavior.\n",
      "  _warn_prf(average, modifier, f\"{metric.capitalize()} is\", result.shape[0])\n",
      "c:\\Users\\ASus\\DisasterMisinformation.AI\\venv\\lib\\site-packages\\sklearn\\metrics\\_classification.py:1706: UndefinedMetricWarning: Recall is ill-defined and being set to 0.0 in labels with no true samples. Use `zero_division` parameter to control this behavior.\n",
      "  _warn_prf(average, modifier, f\"{metric.capitalize()} is\", result.shape[0])\n",
      "c:\\Users\\ASus\\DisasterMisinformation.AI\\venv\\lib\\site-packages\\sklearn\\metrics\\_classification.py:1706: UndefinedMetricWarning: Precision is ill-defined and being set to 0.0 in labels with no predicted samples. Use `zero_division` parameter to control this behavior.\n",
      "  _warn_prf(average, modifier, f\"{metric.capitalize()} is\", result.shape[0])\n",
      "c:\\Users\\ASus\\DisasterMisinformation.AI\\venv\\lib\\site-packages\\sklearn\\metrics\\_classification.py:1706: UndefinedMetricWarning: Recall is ill-defined and being set to 0.0 in labels with no true samples. Use `zero_division` parameter to control this behavior.\n",
      "  _warn_prf(average, modifier, f\"{metric.capitalize()} is\", result.shape[0])\n",
      "c:\\Users\\ASus\\DisasterMisinformation.AI\\venv\\lib\\site-packages\\sklearn\\metrics\\_classification.py:1706: UndefinedMetricWarning: Precision is ill-defined and being set to 0.0 in labels with no predicted samples. Use `zero_division` parameter to control this behavior.\n",
      "  _warn_prf(average, modifier, f\"{metric.capitalize()} is\", result.shape[0])\n",
      "c:\\Users\\ASus\\DisasterMisinformation.AI\\venv\\lib\\site-packages\\sklearn\\metrics\\_classification.py:1706: UndefinedMetricWarning: Recall is ill-defined and being set to 0.0 in labels with no true samples. Use `zero_division` parameter to control this behavior.\n",
      "  _warn_prf(average, modifier, f\"{metric.capitalize()} is\", result.shape[0])\n"
     ]
    }
   ],
   "source": [
    "model.eval()\n",
    "out = model(data)\n",
    "pred_test = out[data.test_mask].argmax(dim=1)\n",
    "y_test = data.y[data.test_mask]\n",
    "accuracy = (pred_test == y_test).sum().item() / y_test.size(0)\n",
    "print(f\"\\n Test Accuracy: {accuracy:.4f}\")\n",
    "\n",
    "print(\"\\n Classification Report:\")\n",
    "print(classification_report(y_test.cpu(), pred_test.cpu(), target_names=list(label_map.keys())))"
   ]
  },
  {
   "cell_type": "code",
   "execution_count": 21,
   "id": "d37027a9",
   "metadata": {},
   "outputs": [
    {
     "name": "stdout",
     "output_type": "stream",
     "text": [
      "Using TSNE perplexity=2 for 5 nodes.\n"
     ]
    },
    {
     "data": {
      "image/png": "[encoded data removed]",
      "text/plain": [
       "<Figure size 800x600 with 1 Axes>"
      ]
     },
     "metadata": {},
     "output_type": "display_data"
    }
   ],
   "source": [
    "from sklearn.manifold import TSNE\n",
    "\n",
    "model.eval()\n",
    "with torch.no_grad():\n",
    "    embeddings = model.gat1(data.x, data.edge_index).cpu().numpy()\n",
    "\n",
    "n_samples = embeddings.shape[0]\n",
    "adjusted_perplexity = min(30, max(2, n_samples // 3))  # robust fallback\n",
    "\n",
    "print(f\"Using TSNE perplexity={adjusted_perplexity} for {n_samples} nodes.\")\n",
    "tsne = TSNE(n_components=2, perplexity=adjusted_perplexity, random_state=42)\n",
    "embeddings_2d = tsne.fit_transform(embeddings)\n",
    "\n",
    "labels = data.y.cpu().numpy()\n",
    "plt.figure(figsize=(8, 6))\n",
    "for label in np.unique(labels):\n",
    "    idx = labels == label\n",
    "    plt.scatter(embeddings_2d[idx, 0], embeddings_2d[idx, 1], label=f\"Class {label}\", alpha=0.7)\n",
    "plt.legend()\n",
    "plt.title(\"t-SNE Visualization of Node Embeddings\")\n",
    "plt.xlabel(\"Dim 1\")\n",
    "plt.ylabel(\"Dim 2\")\n",
    "plt.grid(True)\n",
    "plt.show()\n"
   ]
  },
  {
   "cell_type": "code",
   "execution_count": 20,
   "id": "11a1b723",
   "metadata": {},
   "outputs": [
    {
     "name": "stdout",
     "output_type": "stream",
     "text": [
      "GAT Model saved to models/gnn_gat_model.pt\n"
     ]
    }
   ],
   "source": [
    "model_path = \"models/gnn_gat_model.pt\"\n",
    "os.makedirs(\"models\", exist_ok=True)\n",
    "torch.save(model.state_dict(), model_path)\n",
    "print(f\"GAT Model saved to {model_path}\")\n"
   ]
  }
 ],
 "metadata": {
  "kernelspec": {
   "display_name": "venv",
   "language": "python",
   "name": "python3"
  },
  "language_info": {
   "codemirror_mode": {
    "name": "ipython",
    "version": 3
   },
   "file_extension": ".py",
   "mimetype": "text/x-python",
   "name": "python",
   "nbconvert_exporter": "python",
   "pygments_lexer": "ipython3",
   "version": "3.10.0"
  }
 },
 "nbformat": 4,
 "nbformat_minor": 5
}
