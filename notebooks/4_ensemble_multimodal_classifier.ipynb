{
 "cells": [
  {
   "cell_type": "code",
   "execution_count": 8,
   "id": "11f35dfc",
   "metadata": {},
   "outputs": [
    {
     "name": "stdout",
     "output_type": "stream",
     "text": [
      "All libraries imported successfully.\n"
     ]
    }
   ],
   "source": [
    "import pandas as pd\n",
    "import numpy as np\n",
    "import os\n",
    "from sklearn.ensemble import RandomForestClassifier\n",
    "from sklearn.metrics import classification_report, confusion_matrix\n",
    "from sklearn.model_selection import train_test_split\n",
    "import matplotlib.pyplot as plt\n",
    "import seaborn as sns\n",
    "pd.set_option(\"display.max_columns\", None)\n",
    "pd.set_option(\"display.width\", 1000)\n",
    "print(\"All libraries imported successfully.\")"
   ]
  },
  {
   "cell_type": "code",
   "execution_count": 10,
   "id": "4a29c156",
   "metadata": {},
   "outputs": [
    {
     "name": "stdout",
     "output_type": "stream",
     "text": [
      "Loaded dataset with shape: (5, 9)\n",
      "Columns: ['id', 'text', 'label', 'image_path', 'clip_score', 'suspicious', 'image_mismatch', 'similarity_to_reference', 'predicted_label']\n",
      "Label distribution:\n",
      " label\n",
      "real    3\n",
      "fake    2\n",
      "Name: count, dtype: int64\n",
      "First few rows:\n",
      "    id                                     text label              image_path  clip_score  suspicious  image_mismatch  similarity_to_reference predicted_label\n",
      "0   0  This looks like a real flood in Kerala.  real  data/images/flood1.jpg        0.87           0               0                     0.90            real\n",
      "1   1    Seems photoshopped, don't believe it.  fake   data/images/fake1.jpg        0.41           1               1                     0.30            fake\n",
      "2   2        Genuine disaster response effort.  real  data/images/flood1.jpg        0.93           0               0                     0.95            real\n",
      "3   3               Old photo used to mislead.  fake   data/images/fake1.jpg        0.35           1               1                     0.25            fake\n",
      "4   4       Authentic image from news sources.  real  data/images/flood1.jpg        0.88           0               0                     0.91            real\n"
     ]
    }
   ],
   "source": [
    "csv_path = \"data/data_processed/final_predictions.csv\"\n",
    "assert os.path.exists(csv_path), f\"File not found: {csv_path}\"\n",
    "df = pd.read_csv(csv_path)\n",
    "print(f\"Loaded dataset with shape: {df.shape}\")\n",
    "print(\"Columns:\", df.columns.tolist())\n",
    "print(\"Label distribution:\\n\", df[\"label\"].value_counts())\n",
    "print(\"First few rows:\\n\", df.head())\n"
   ]
  },
  {
   "cell_type": "code",
   "execution_count": 24,
   "id": "e536dd51",
   "metadata": {},
   "outputs": [],
   "source": [
    "for col in [\"clip_score\", \"similarity_to_reference\", \"suspicious\", \"image_mismatch\"]:\n",
    "    if col not in df.columns:\n",
    "        print(f\"Column '{col}' missing, defaulting to 0.\")\n",
    "    df[col] = df.get(col, 0).fillna(0).astype(int if col in [\"suspicious\", \"image_mismatch\"] else float)\n"
   ]
  },
  {
   "cell_type": "code",
   "execution_count": 22,
   "id": "98d9f300",
   "metadata": {},
   "outputs": [
    {
     "name": "stdout",
     "output_type": "stream",
     "text": [
      "Cleaned data preview:\n",
      "    id                                     text label              image_path  clip_score  suspicious  image_mismatch  similarity_to_reference predicted_label\n",
      "0   0  This looks like a real flood in Kerala.  real  data/images/flood1.jpg        0.87           0               0                     0.90            real\n",
      "1   1    Seems photoshopped, don't believe it.  fake   data/images/fake1.jpg        0.41           1               1                     0.30            fake\n",
      "2   2        Genuine disaster response effort.  real  data/images/flood1.jpg        0.93           0               0                     0.95            real\n",
      "3   3               Old photo used to mislead.  fake   data/images/fake1.jpg        0.35           1               1                     0.25            fake\n",
      "4   4       Authentic image from news sources.  real  data/images/flood1.jpg        0.88           0               0                     0.91            real\n"
     ]
    }
   ],
   "source": [
    "print(\"Cleaned data preview:\\n\", df.head())"
   ]
  },
  {
   "cell_type": "code",
   "execution_count": 15,
   "id": "8095a977",
   "metadata": {},
   "outputs": [
    {
     "name": "stdout",
     "output_type": "stream",
     "text": [
      "Feature matrix shape: (5, 4)\n",
      "Target distribution:\n",
      " label\n",
      "real    3\n",
      "fake    2\n",
      "Name: count, dtype: int64\n"
     ]
    }
   ],
   "source": [
    "features = [\"clip_score\", \"similarity_to_reference\", \"suspicious\", \"image_mismatch\"]\n",
    "X = df[features]\n",
    "y = df[\"label\"]\n",
    "print(\"Feature matrix shape:\", X.shape)\n",
    "print(\"Target distribution:\\n\", y.value_counts())"
   ]
  },
  {
   "cell_type": "code",
   "execution_count": 17,
   "id": "15329d2f",
   "metadata": {},
   "outputs": [],
   "source": [
    "if len(df) < 5 or len(y.unique()) < 2:\n",
    "    print(\"Dataset too small or only one class present. Using simple random split without stratification.\")\n",
    "    stratify_y = None\n",
    "else:\n",
    "    stratify_y = y\n",
    "\n",
    "X_train, X_test, y_train, y_test = train_test_split(\n",
    "    X, y, test_size=0.2 if len(df) > 5 else 0.5, random_state=42, stratify=stratify_y\n",
    ")\n"
   ]
  },
  {
   "cell_type": "code",
   "execution_count": 18,
   "id": "9251d6df",
   "metadata": {},
   "outputs": [
    {
     "name": "stdout",
     "output_type": "stream",
     "text": [
      "Model trained on multimodal features.\n"
     ]
    }
   ],
   "source": [
    "clf = RandomForestClassifier(n_estimators=100, random_state=42)\n",
    "clf.fit(X_train, y_train)\n",
    "y_pred = clf.predict(X_test)\n",
    "print(\"Model trained on multimodal features.\")"
   ]
  },
  {
   "cell_type": "code",
   "execution_count": 19,
   "id": "cab09352",
   "metadata": {},
   "outputs": [
    {
     "name": "stdout",
     "output_type": "stream",
     "text": [
      "\n",
      " Classification Report:\n",
      "\n",
      "              precision    recall  f1-score   support\n",
      "\n",
      "        fake       1.00      1.00      1.00         1\n",
      "        real       1.00      1.00      1.00         2\n",
      "\n",
      "    accuracy                           1.00         3\n",
      "   macro avg       1.00      1.00      1.00         3\n",
      "weighted avg       1.00      1.00      1.00         3\n",
      "\n"
     ]
    },
    {
     "data": {
      "image/png": "[encoded data removed]",
      "text/plain": [
       "<Figure size 600x500 with 2 Axes>"
      ]
     },
     "metadata": {},
     "output_type": "display_data"
    }
   ],
   "source": [
    "print(\"\\n Classification Report:\\n\")\n",
    "print(classification_report(y_test, y_pred))\n",
    "\n",
    "cm = confusion_matrix(y_test, y_pred)\n",
    "plt.figure(figsize=(6, 5))\n",
    "sns.heatmap(cm, annot=True, fmt='d', cmap='Blues', xticklabels=np.unique(y), yticklabels=np.unique(y))\n",
    "plt.xlabel(\"Predicted Label\")\n",
    "plt.ylabel(\"True Label\")\n",
    "plt.title(\"Confusion Matrix\")\n",
    "plt.tight_layout()\n",
    "plt.show()"
   ]
  },
  {
   "cell_type": "code",
   "execution_count": 21,
   "id": "1450c2bc",
   "metadata": {},
   "outputs": [
    {
     "name": "stdout",
     "output_type": "stream",
     "text": [
      "Feature importances:\n",
      "                    Feature  Importance\n",
      "1  similarity_to_reference    0.307692\n",
      "0               clip_score    0.250000\n",
      "2               suspicious    0.250000\n",
      "3           image_mismatch    0.192308\n"
     ]
    },
    {
     "name": "stderr",
     "output_type": "stream",
     "text": [
      "C:\\Users\\ASus\\AppData\\Local\\Temp\\ipykernel_16740\\1148459416.py:8: FutureWarning: \n",
      "\n",
      "Passing `palette` without assigning `hue` is deprecated and will be removed in v0.14.0. Assign the `y` variable to `hue` and set `legend=False` for the same effect.\n",
      "\n",
      "  sns.barplot(x=\"Importance\", y=\"Feature\", data=feat_df, palette=\"viridis\")\n"
     ]
    },
    {
     "data": {
      "image/png": "[encoded data removed]",
      "text/plain": [
       "<Figure size 800x400 with 1 Axes>"
      ]
     },
     "metadata": {},
     "output_type": "display_data"
    }
   ],
   "source": [
    "importances = clf.feature_importances_\n",
    "feat_df = pd.DataFrame({\"Feature\": features, \"Importance\": importances})\n",
    "feat_df = feat_df.sort_values(by=\"Importance\", ascending=False)\n",
    "\n",
    "print(\"Feature importances:\\n\", feat_df)\n",
    "\n",
    "plt.figure(figsize=(8, 4))\n",
    "sns.barplot(x=\"Importance\", y=\"Feature\", data=feat_df, palette=\"viridis\")\n",
    "plt.title(\"Feature Importances in Multimodal Classifier\")\n",
    "plt.tight_layout()\n",
    "plt.show()\n"
   ]
  },
  {
   "cell_type": "code",
   "execution_count": 25,
   "id": "d4acb31b",
   "metadata": {},
   "outputs": [
    {
     "name": "stdout",
     "output_type": "stream",
     "text": [
      "🧪 ROC-AUC Score: 1.0000\n"
     ]
    }
   ],
   "source": [
    "from sklearn.metrics import roc_auc_score\n",
    "\n",
    "# Only for binary classification\n",
    "if len(np.unique(y_test)) == 2:\n",
    "    y_proba = clf.predict_proba(X_test)[:, 1]\n",
    "    auc = roc_auc_score(y_test, y_proba)\n",
    "    print(f\"🧪 ROC-AUC Score: {auc:.4f}\")\n"
   ]
  }
 ],
 "metadata": {
  "kernelspec": {
   "display_name": "venv",
   "language": "python",
   "name": "python3"
  },
  "language_info": {
   "codemirror_mode": {
    "name": "ipython",
    "version": 3
   },
   "file_extension": ".py",
   "mimetype": "text/x-python",
   "name": "python",
   "nbconvert_exporter": "python",
   "pygments_lexer": "ipython3",
   "version": "3.10.0"
  }
 },
 "nbformat": 4,
 "nbformat_minor": 5
}
